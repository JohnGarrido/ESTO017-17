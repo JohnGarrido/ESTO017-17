{
  "nbformat": 4,
  "nbformat_minor": 0,
  "metadata": {
    "colab": {
      "name": "Métodos Experimentais em Engenharia — SaS-COVID-19 :: Portugal x Brasil :: Grupo 3",
      "provenance": []
    },
    "kernelspec": {
      "name": "python3",
      "display_name": "Python 3"
    }
  },
  "cells": [
    {
      "cell_type": "markdown",
      "metadata": {
        "id": "W-ZuDDe8avZk",
        "colab_type": "text"
      },
      "source": [
        "# **Loading (Libraries, CSV)**"
      ]
    },
    {
      "cell_type": "code",
      "metadata": {
        "id": "p6p8Jg5TZeBm",
        "colab_type": "code",
        "colab": {}
      },
      "source": [
        "from google.colab import files\n",
        "import pandas as pd\n",
        "import numpy as np\n",
        "import matplotlib.pyplot as plt\n",
        "\n",
        "#curve fit\n",
        "from scipy.optimize import curve_fit\n",
        "\n",
        "# design plots\n",
        "import seaborn as sns\n",
        "%matplotlib inline\n",
        "sns.set(style=\"whitegrid\")"
      ],
      "execution_count": 0,
      "outputs": []
    },
    {
      "cell_type": "code",
      "metadata": {
        "id": "2GF5zGplZxhN",
        "colab_type": "code",
        "outputId": "182739cb-fda7-4e7a-e493-6c06f5d002af",
        "colab": {
          "resources": {
            "http://localhost:8080/nbextensions/google.colab/files.js": {
              "data": "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",
              "ok": true,
              "headers": [
                [
                  "content-type",
                  "application/javascript"
                ]
              ],
              "status": 200,
              "status_text": ""
            }
          },
          "base_uri": "https://localhost:8080/",
          "height": 74
        }
      },
      "source": [
        "file = files.upload()"
      ],
      "execution_count": 118,
      "outputs": [
        {
          "output_type": "display_data",
          "data": {
            "text/html": [
              "\n",
              "     <input type=\"file\" id=\"files-8051a1dd-796a-42d3-9a90-38b2aab9139e\" name=\"files[]\" multiple disabled />\n",
              "     <output id=\"result-8051a1dd-796a-42d3-9a90-38b2aab9139e\">\n",
              "      Upload widget is only available when the cell has been executed in the\n",
              "      current browser session. Please rerun this cell to enable.\n",
              "      </output>\n",
              "      <script src=\"/nbextensions/google.colab/files.js\"></script> "
            ],
            "text/plain": [
              "<IPython.core.display.HTML object>"
            ]
          },
          "metadata": {
            "tags": []
          }
        },
        {
          "output_type": "stream",
          "text": [
            "Saving covid_19_clean_complete.csv to covid_19_clean_complete (2).csv\n"
          ],
          "name": "stdout"
        }
      ]
    },
    {
      "cell_type": "code",
      "metadata": {
        "id": "fAty5tVdZ2-z",
        "colab_type": "code",
        "outputId": "9a9f9e71-8742-4cc4-fa3c-8f7429a02a5b",
        "colab": {
          "base_uri": "https://localhost:8080/",
          "height": 402
        }
      },
      "source": [
        "df = pd.read_csv('covid_19_clean_complete.csv')\n",
        "df.drop(columns=['Province/State','Lat','Long','Deaths','Recovered'],inplace=True)\n",
        "df.rename(columns={'Country/Region':'Country'},inplace=True)\n",
        "df"
      ],
      "execution_count": 119,
      "outputs": [
        {
          "output_type": "execute_result",
          "data": {
            "text/html": [
              "<div>\n",
              "<style scoped>\n",
              "    .dataframe tbody tr th:only-of-type {\n",
              "        vertical-align: middle;\n",
              "    }\n",
              "\n",
              "    .dataframe tbody tr th {\n",
              "        vertical-align: top;\n",
              "    }\n",
              "\n",
              "    .dataframe thead th {\n",
              "        text-align: right;\n",
              "    }\n",
              "</style>\n",
              "<table border=\"1\" class=\"dataframe\">\n",
              "  <thead>\n",
              "    <tr style=\"text-align: right;\">\n",
              "      <th></th>\n",
              "      <th>Country</th>\n",
              "      <th>Date</th>\n",
              "      <th>Confirmed</th>\n",
              "    </tr>\n",
              "  </thead>\n",
              "  <tbody>\n",
              "    <tr>\n",
              "      <th>0</th>\n",
              "      <td>Afghanistan</td>\n",
              "      <td>1/22/20</td>\n",
              "      <td>0</td>\n",
              "    </tr>\n",
              "    <tr>\n",
              "      <th>1</th>\n",
              "      <td>Albania</td>\n",
              "      <td>1/22/20</td>\n",
              "      <td>0</td>\n",
              "    </tr>\n",
              "    <tr>\n",
              "      <th>2</th>\n",
              "      <td>Algeria</td>\n",
              "      <td>1/22/20</td>\n",
              "      <td>0</td>\n",
              "    </tr>\n",
              "    <tr>\n",
              "      <th>3</th>\n",
              "      <td>Andorra</td>\n",
              "      <td>1/22/20</td>\n",
              "      <td>0</td>\n",
              "    </tr>\n",
              "    <tr>\n",
              "      <th>4</th>\n",
              "      <td>Angola</td>\n",
              "      <td>1/22/20</td>\n",
              "      <td>0</td>\n",
              "    </tr>\n",
              "    <tr>\n",
              "      <th>...</th>\n",
              "      <td>...</td>\n",
              "      <td>...</td>\n",
              "      <td>...</td>\n",
              "    </tr>\n",
              "    <tr>\n",
              "      <th>25671</th>\n",
              "      <td>France</td>\n",
              "      <td>4/28/20</td>\n",
              "      <td>1</td>\n",
              "    </tr>\n",
              "    <tr>\n",
              "      <th>25672</th>\n",
              "      <td>South Sudan</td>\n",
              "      <td>4/28/20</td>\n",
              "      <td>34</td>\n",
              "    </tr>\n",
              "    <tr>\n",
              "      <th>25673</th>\n",
              "      <td>Western Sahara</td>\n",
              "      <td>4/28/20</td>\n",
              "      <td>6</td>\n",
              "    </tr>\n",
              "    <tr>\n",
              "      <th>25674</th>\n",
              "      <td>Sao Tome and Principe</td>\n",
              "      <td>4/28/20</td>\n",
              "      <td>8</td>\n",
              "    </tr>\n",
              "    <tr>\n",
              "      <th>25675</th>\n",
              "      <td>Yemen</td>\n",
              "      <td>4/28/20</td>\n",
              "      <td>1</td>\n",
              "    </tr>\n",
              "  </tbody>\n",
              "</table>\n",
              "<p>25676 rows × 3 columns</p>\n",
              "</div>"
            ],
            "text/plain": [
              "                     Country     Date  Confirmed\n",
              "0                Afghanistan  1/22/20          0\n",
              "1                    Albania  1/22/20          0\n",
              "2                    Algeria  1/22/20          0\n",
              "3                    Andorra  1/22/20          0\n",
              "4                     Angola  1/22/20          0\n",
              "...                      ...      ...        ...\n",
              "25671                 France  4/28/20          1\n",
              "25672            South Sudan  4/28/20         34\n",
              "25673         Western Sahara  4/28/20          6\n",
              "25674  Sao Tome and Principe  4/28/20          8\n",
              "25675                  Yemen  4/28/20          1\n",
              "\n",
              "[25676 rows x 3 columns]"
            ]
          },
          "metadata": {
            "tags": []
          },
          "execution_count": 119
        }
      ]
    },
    {
      "cell_type": "markdown",
      "metadata": {
        "id": "8hz687OXa2CC",
        "colab_type": "text"
      },
      "source": [
        "# **Brazil Dataset**"
      ]
    },
    {
      "cell_type": "code",
      "metadata": {
        "id": "GOVJUiJ2aBNR",
        "colab_type": "code",
        "outputId": "4e827461-50f5-48f4-9067-498171365984",
        "colab": {
          "base_uri": "https://localhost:8080/",
          "height": 134
        }
      },
      "source": [
        "brazil = df.loc[df['Country'] == 'Brazil'] #defining ds to Brazil\n",
        "brazil.sort_values(by=['Confirmed','Date'],ascending=True,inplace=True) #ordering\n",
        "brazil = brazil[df['Confirmed'] >= 150].iloc[:39]"
      ],
      "execution_count": 120,
      "outputs": [
        {
          "output_type": "stream",
          "text": [
            "/usr/local/lib/python3.6/dist-packages/ipykernel_launcher.py:2: SettingWithCopyWarning: \n",
            "A value is trying to be set on a copy of a slice from a DataFrame\n",
            "\n",
            "See the caveats in the documentation: https://pandas.pydata.org/pandas-docs/stable/user_guide/indexing.html#returning-a-view-versus-a-copy\n",
            "  \n",
            "/usr/local/lib/python3.6/dist-packages/ipykernel_launcher.py:3: UserWarning: Boolean Series key will be reindexed to match DataFrame index.\n",
            "  This is separate from the ipykernel package so we can avoid doing imports until\n"
          ],
          "name": "stderr"
        }
      ]
    },
    {
      "cell_type": "markdown",
      "metadata": {
        "id": "gxSgXtaAb_mo",
        "colab_type": "text"
      },
      "source": [
        "# **Argentina Dataset**"
      ]
    },
    {
      "cell_type": "code",
      "metadata": {
        "id": "-RIj5EfWa8wd",
        "colab_type": "code",
        "outputId": "355e4cf2-6048-4d04-f058-d5ba210cb5b9",
        "colab": {
          "base_uri": "https://localhost:8080/",
          "height": 134
        }
      },
      "source": [
        "argentina = df.loc[df['Country'] == 'Argentina'] #defining ds to Argentina\n",
        "argentina.sort_values(by=['Confirmed','Date'],ascending=True,inplace=True) #ordering\n",
        "argentina = argentina[df['Confirmed'] >= 150].iloc[:39]"
      ],
      "execution_count": 121,
      "outputs": [
        {
          "output_type": "stream",
          "text": [
            "/usr/local/lib/python3.6/dist-packages/ipykernel_launcher.py:2: SettingWithCopyWarning: \n",
            "A value is trying to be set on a copy of a slice from a DataFrame\n",
            "\n",
            "See the caveats in the documentation: https://pandas.pydata.org/pandas-docs/stable/user_guide/indexing.html#returning-a-view-versus-a-copy\n",
            "  \n",
            "/usr/local/lib/python3.6/dist-packages/ipykernel_launcher.py:3: UserWarning: Boolean Series key will be reindexed to match DataFrame index.\n",
            "  This is separate from the ipykernel package so we can avoid doing imports until\n"
          ],
          "name": "stderr"
        }
      ]
    },
    {
      "cell_type": "markdown",
      "metadata": {
        "id": "sojziRXNdBVr",
        "colab_type": "text"
      },
      "source": [
        "# **Data Analysis**"
      ]
    },
    {
      "cell_type": "code",
      "metadata": {
        "id": "rVwQtlbacJBM",
        "colab_type": "code",
        "outputId": "02624315-94ea-451d-a185-b5828157705e",
        "colab": {
          "base_uri": "https://localhost:8080/",
          "height": 54
        }
      },
      "source": [
        "'''\n",
        "\n",
        "*** Definições ***\n",
        "\n",
        "— Ambos os datasets possuem len(39), ou seja: a análise dos dados condenada ao redimensinamento dos dados (85% do dataset treino e 15% teste) vai ser feito de acordo com esse número\n",
        "logo: \n",
        "training_size = 0.80 * 39 approx -> 33 linhas de treino\n",
        "test_size = 39 - treino approx -> 7 linhas de teste\n",
        "\n",
        "'''"
      ],
      "execution_count": 122,
      "outputs": [
        {
          "output_type": "execute_result",
          "data": {
            "text/plain": [
              "'\\n\\n*** Definições ***\\n\\n— Ambos os datasets possuem len(39), ou seja: a análise dos dados condenada ao redimensinamento dos dados (85% do dataset treino e 15% teste) vai ser feito de acordo com esse número\\nlogo: \\ntraining_size = 0.80 * 39 approx -> 33 linhas de treino\\ntest_size = 39 - treino approx -> 7 linhas de teste\\n\\n'"
            ]
          },
          "metadata": {
            "tags": []
          },
          "execution_count": 122
        }
      ]
    },
    {
      "cell_type": "code",
      "metadata": {
        "id": "ULiOwleJejNM",
        "colab_type": "code",
        "colab": {}
      },
      "source": [
        "t_list = []\n",
        "for i in range(0,39):\n",
        "  t_list.append(i)\n",
        "brazil['t'] = t_list\n",
        "argentina['t'] = t_list"
      ],
      "execution_count": 0,
      "outputs": []
    },
    {
      "cell_type": "code",
      "metadata": {
        "id": "bl6uxAcMhwon",
        "colab_type": "code",
        "colab": {}
      },
      "source": [
        "brazil_training = brazil.iloc[:33]\n",
        "argentina_training = argentina.iloc[:33]"
      ],
      "execution_count": 0,
      "outputs": []
    },
    {
      "cell_type": "markdown",
      "metadata": {
        "id": "bjQndB7LfLb9",
        "colab_type": "text"
      },
      "source": [
        "# **Definitions**\n",
        "\n",
        "*   Definição das funções de predição"
      ]
    },
    {
      "cell_type": "code",
      "metadata": {
        "id": "cmFBNVLMgRoA",
        "colab_type": "code",
        "colab": {}
      },
      "source": [
        "def br_malthus(a,t):\n",
        "  return 151*np.exp(a*t) #151 is a pre-definied constant value on br\n",
        "  \n",
        "def ar_malthus(a,t):\n",
        "  return 158*np.exp(a*t)\n",
        "\n",
        "def br_ver(a,t,L):\n",
        "  return (L*151)/((L-151)*np.exp(-1*a*t)+151)\n",
        "\n",
        "def ar_ver(a,t,L):\n",
        "  return (L*158)/((L-158)*np.exp(-1*a*t)+158)"
      ],
      "execution_count": 0,
      "outputs": []
    },
    {
      "cell_type": "markdown",
      "metadata": {
        "id": "xNmDeXEYeceb",
        "colab_type": "text"
      },
      "source": [
        "# **Analysis on Brazil**"
      ]
    },
    {
      "cell_type": "code",
      "metadata": {
        "id": "-pwL9OrbeXJo",
        "colab_type": "code",
        "colab": {
          "base_uri": "https://localhost:8080/",
          "height": 34
        },
        "outputId": "9f22940f-3a98-4fac-d20c-d1b1f7a3e9f2"
      },
      "source": [
        "# Malthus (BR)\n",
        "\n",
        "br_malthus_popt, br_malthus_pcov = curve_fit(br_malthus,brazil_training['t'],brazil_training['Confirmed'])# calculating coefficient a\n",
        "br_malthus_a = br_popt\n",
        "br_malthus_deva = np.sqrt(np.diag(br_pcov))\n",
        "print(\"a = %6.2f +- %.4f\" %(br_malthus_a, br_malthus_deva))"
      ],
      "execution_count": 145,
      "outputs": [
        {
          "output_type": "stream",
          "text": [
            "a =   0.17 +- 0.0016\n"
          ],
          "name": "stdout"
        }
      ]
    },
    {
      "cell_type": "code",
      "metadata": {
        "id": "4DIPJsUChZS3",
        "colab_type": "code",
        "colab": {
          "base_uri": "https://localhost:8080/",
          "height": 50
        },
        "outputId": "44aaca40-2569-4ad8-ebb2-a21ec07975ef"
      },
      "source": [
        "# Verhulst (BR)\n",
        "\n",
        "br_ver_popt, br_ver_pcov = curve_fit(br_ver,brazil['t'],brazil['Confirmed']) # calculating coefficients a,L (0.85 of data wasnt enough)\n",
        "br_ver_a, br_ver_L = br_ver_popt\n",
        "br_ver_deva, br_ver_devL = np.sqrt(np.diag(br_ver_pcov))\n",
        "print(\"a = %6.2f +- %6.4f\\nL = %6.2f +- %6.2f\"%(br_ver_a,br_ver_deva,br_ver_L,br_ver_devL))"
      ],
      "execution_count": 148,
      "outputs": [
        {
          "output_type": "stream",
          "text": [
            "a =   0.19 +- 0.0020\n",
            "L = 46291.20 +- 1562.14\n"
          ],
          "name": "stdout"
        }
      ]
    },
    {
      "cell_type": "code",
      "metadata": {
        "id": "i9WciX5dqbH4",
        "colab_type": "code",
        "colab": {
          "base_uri": "https://localhost:8080/",
          "height": 218
        },
        "outputId": "b66dde46-9807-4e42-cc60-145673ffbbc5"
      },
      "source": [
        "brazil_training['Malthus'] = br_malthus(br_malthus_a,brazil_training['t']).round() # creating column Malthus\n",
        "brazil_training['Verhulst'] = br_ver(br_ver_a,brazil_training['t'],br_ver_L,).round() # creating column Verhulst"
      ],
      "execution_count": 149,
      "outputs": [
        {
          "output_type": "stream",
          "text": [
            "/usr/local/lib/python3.6/dist-packages/ipykernel_launcher.py:1: SettingWithCopyWarning: \n",
            "A value is trying to be set on a copy of a slice from a DataFrame.\n",
            "Try using .loc[row_indexer,col_indexer] = value instead\n",
            "\n",
            "See the caveats in the documentation: https://pandas.pydata.org/pandas-docs/stable/user_guide/indexing.html#returning-a-view-versus-a-copy\n",
            "  \"\"\"Entry point for launching an IPython kernel.\n",
            "/usr/local/lib/python3.6/dist-packages/ipykernel_launcher.py:2: SettingWithCopyWarning: \n",
            "A value is trying to be set on a copy of a slice from a DataFrame.\n",
            "Try using .loc[row_indexer,col_indexer] = value instead\n",
            "\n",
            "See the caveats in the documentation: https://pandas.pydata.org/pandas-docs/stable/user_guide/indexing.html#returning-a-view-versus-a-copy\n",
            "  \n"
          ],
          "name": "stderr"
        }
      ]
    },
    {
      "cell_type": "code",
      "metadata": {
        "id": "_jqAq3hbqcmM",
        "colab_type": "code",
        "colab": {
          "base_uri": "https://localhost:8080/",
          "height": 195
        },
        "outputId": "4919abc3-4e20-41a8-e58c-4a84fce41d8a"
      },
      "source": [
        "brazil_training.head() # overview on new dataset"
      ],
      "execution_count": 150,
      "outputs": [
        {
          "output_type": "execute_result",
          "data": {
            "text/html": [
              "<div>\n",
              "<style scoped>\n",
              "    .dataframe tbody tr th:only-of-type {\n",
              "        vertical-align: middle;\n",
              "    }\n",
              "\n",
              "    .dataframe tbody tr th {\n",
              "        vertical-align: top;\n",
              "    }\n",
              "\n",
              "    .dataframe thead th {\n",
              "        text-align: right;\n",
              "    }\n",
              "</style>\n",
              "<table border=\"1\" class=\"dataframe\">\n",
              "  <thead>\n",
              "    <tr style=\"text-align: right;\">\n",
              "      <th></th>\n",
              "      <th>Country</th>\n",
              "      <th>Date</th>\n",
              "      <th>Confirmed</th>\n",
              "      <th>t</th>\n",
              "      <th>Malthus</th>\n",
              "      <th>Verhulst</th>\n",
              "    </tr>\n",
              "  </thead>\n",
              "  <tbody>\n",
              "    <tr>\n",
              "      <th>13390</th>\n",
              "      <td>Brazil</td>\n",
              "      <td>3/13/20</td>\n",
              "      <td>151</td>\n",
              "      <td>0</td>\n",
              "      <td>151.0</td>\n",
              "      <td>151.0</td>\n",
              "    </tr>\n",
              "    <tr>\n",
              "      <th>13652</th>\n",
              "      <td>Brazil</td>\n",
              "      <td>3/14/20</td>\n",
              "      <td>151</td>\n",
              "      <td>1</td>\n",
              "      <td>178.0</td>\n",
              "      <td>183.0</td>\n",
              "    </tr>\n",
              "    <tr>\n",
              "      <th>13914</th>\n",
              "      <td>Brazil</td>\n",
              "      <td>3/15/20</td>\n",
              "      <td>162</td>\n",
              "      <td>2</td>\n",
              "      <td>211.0</td>\n",
              "      <td>221.0</td>\n",
              "    </tr>\n",
              "    <tr>\n",
              "      <th>14176</th>\n",
              "      <td>Brazil</td>\n",
              "      <td>3/16/20</td>\n",
              "      <td>200</td>\n",
              "      <td>3</td>\n",
              "      <td>249.0</td>\n",
              "      <td>268.0</td>\n",
              "    </tr>\n",
              "    <tr>\n",
              "      <th>14438</th>\n",
              "      <td>Brazil</td>\n",
              "      <td>3/17/20</td>\n",
              "      <td>321</td>\n",
              "      <td>4</td>\n",
              "      <td>295.0</td>\n",
              "      <td>325.0</td>\n",
              "    </tr>\n",
              "  </tbody>\n",
              "</table>\n",
              "</div>"
            ],
            "text/plain": [
              "      Country     Date  Confirmed  t  Malthus  Verhulst\n",
              "13390  Brazil  3/13/20        151  0    151.0     151.0\n",
              "13652  Brazil  3/14/20        151  1    178.0     183.0\n",
              "13914  Brazil  3/15/20        162  2    211.0     221.0\n",
              "14176  Brazil  3/16/20        200  3    249.0     268.0\n",
              "14438  Brazil  3/17/20        321  4    295.0     325.0"
            ]
          },
          "metadata": {
            "tags": []
          },
          "execution_count": 150
        }
      ]
    },
    {
      "cell_type": "code",
      "metadata": {
        "id": "0g40QGQvw6Yj",
        "colab_type": "code",
        "colab": {
          "base_uri": "https://localhost:8080/",
          "height": 268
        },
        "outputId": "f99a8c72-bf50-4ca8-96fc-a6b1473f34ef"
      },
      "source": [
        "# Plot\n",
        "\n",
        "plt.plot(brazil_training['t'],brazil_training['Confirmed'],label='real')\n",
        "plt.plot(brazil_training['t'],brazil_training['Malthus'],label='malthus')\n",
        "plt.plot(brazil_training['t'],brazil_training['Verhulst'],label='verhulst')\n",
        "plt.legend()\n",
        "plt.show()"
      ],
      "execution_count": 151,
      "outputs": [
        {
          "output_type": "display_data",
          "data": {
            "image/png": "[encoded data removed]",
            "text/plain": [
              "<Figure size 432x288 with 1 Axes>"
            ]
          },
          "metadata": {
            "tags": []
          }
        }
      ]
    },
    {
      "cell_type": "markdown",
      "metadata": {
        "id": "RXqQ2nxeyZcj",
        "colab_type": "text"
      },
      "source": [
        "# **Analysis on Argentina**"
      ]
    },
    {
      "cell_type": "code",
      "metadata": {
        "id": "V81e8iaSygYL",
        "colab_type": "code",
        "colab": {
          "base_uri": "https://localhost:8080/",
          "height": 34
        },
        "outputId": "2d7d5aa3-89cc-499a-88a1-0bd863ab1e28"
      },
      "source": [
        "# Malthus (AR)\n",
        "\n",
        "ar_malthus_popt, ar_malthus_pcov = curve_fit(ar_malthus,argentina_training['t'],argentina_training['Confirmed'])# calculating coefficient a\n",
        "ar_malthus_a = ar_malthus_popt\n",
        "ar_malthus_deva = np.sqrt(np.diag(ar_malthus_pcov))\n",
        "print(\"a = %6.2f +- %.4f\" %(ar_malthus_a, ar_malthus_deva))"
      ],
      "execution_count": 154,
      "outputs": [
        {
          "output_type": "stream",
          "text": [
            "a =   0.10 +- 0.0020\n"
          ],
          "name": "stdout"
        }
      ]
    },
    {
      "cell_type": "code",
      "metadata": {
        "id": "ozYBoWm1y8WS",
        "colab_type": "code",
        "colab": {
          "base_uri": "https://localhost:8080/",
          "height": 50
        },
        "outputId": "0d01edd6-3674-4fdc-db8c-867c8239cfed"
      },
      "source": [
        "# Verhulst (BR)\n",
        "\n",
        "ar_ver_popt, ar_ver_pcov = curve_fit(ar_ver,argentina_training['t'],argentina_training['Confirmed']) # calculating coefficients a,L (0.85 of data wasnt enough)\n",
        "ar_ver_a, ar_ver_L = ar_ver_popt\n",
        "ar_ver_deva, ar_ver_devL = np.sqrt(np.diag(ar_ver_pcov))\n",
        "print(\"a = %6.7f +- %6.4f\\nL = %6.2f +- %6.2f\"%(ar_ver_a,ar_ver_deva,ar_ver_L,ar_ver_devL))"
      ],
      "execution_count": 163,
      "outputs": [
        {
          "output_type": "stream",
          "text": [
            "a = -0.0000026 +- 0.0013\n",
            "L =   0.01 +-   6.71\n"
          ],
          "name": "stdout"
        }
      ]
    },
    {
      "cell_type": "code",
      "metadata": {
        "id": "yVCi5fv101KQ",
        "colab_type": "code",
        "colab": {
          "base_uri": "https://localhost:8080/",
          "height": 218
        },
        "outputId": "41afd598-0f51-4e06-c10f-96096933781c"
      },
      "source": [
        "argentina_training['Malthus'] = ar_malthus(ar_malthus_a,argentina_training['t']).round() # creating column Malthus\n",
        "argentina_training['Verhulst'] = ar_ver(ar_ver_a,argentina_training['t'],ar_ver_L,).round() # creating column Verhulst"
      ],
      "execution_count": 165,
      "outputs": [
        {
          "output_type": "stream",
          "text": [
            "/usr/local/lib/python3.6/dist-packages/ipykernel_launcher.py:1: SettingWithCopyWarning: \n",
            "A value is trying to be set on a copy of a slice from a DataFrame.\n",
            "Try using .loc[row_indexer,col_indexer] = value instead\n",
            "\n",
            "See the caveats in the documentation: https://pandas.pydata.org/pandas-docs/stable/user_guide/indexing.html#returning-a-view-versus-a-copy\n",
            "  \"\"\"Entry point for launching an IPython kernel.\n",
            "/usr/local/lib/python3.6/dist-packages/ipykernel_launcher.py:2: SettingWithCopyWarning: \n",
            "A value is trying to be set on a copy of a slice from a DataFrame.\n",
            "Try using .loc[row_indexer,col_indexer] = value instead\n",
            "\n",
            "See the caveats in the documentation: https://pandas.pydata.org/pandas-docs/stable/user_guide/indexing.html#returning-a-view-versus-a-copy\n",
            "  \n"
          ],
          "name": "stderr"
        }
      ]
    },
    {
      "cell_type": "code",
      "metadata": {
        "id": "FiJMLnC4zrR2",
        "colab_type": "code",
        "colab": {
          "base_uri": "https://localhost:8080/",
          "height": 268
        },
        "outputId": "7cda32b5-ad37-447f-d7fb-8fc6af5d27d9"
      },
      "source": [
        "# Plot\n",
        "\n",
        "plt.plot(argentina_training['t'],argentina_training['Confirmed'],label='real')\n",
        "plt.plot(argentina_training['t'],argentina_training['Malthus'],label='malthus')\n",
        "plt.plot(argentina_training['t'],argentina_training['Verhulst'],label='verhulst')\n",
        "plt.legend()\n",
        "plt.show()"
      ],
      "execution_count": 167,
      "outputs": [
        {
          "output_type": "display_data",
          "data": {
            "image/png": "[encoded data removed]",
            "text/plain": [
              "<Figure size 432x288 with 1 Axes>"
            ]
          },
          "metadata": {
            "tags": []
          }
        }
      ]
    },
    {
      "cell_type": "markdown",
      "metadata": {
        "id": "lmWEgYc_474b",
        "colab_type": "text"
      },
      "source": [
        "# **Integrated Analysis**"
      ]
    },
    {
      "cell_type": "code",
      "metadata": {
        "id": "p2ed_DUp46vT",
        "colab_type": "code",
        "colab": {}
      },
      "source": [
        "def br_erro_malthus(t,infec_modelo):\n",
        "  return t*infec_modelo*br_malthus_deva\n",
        "\n",
        "def ar_erro_malthus(t,infec_modelo):\n",
        "  return t*infec_modelo*ar_malthus_deva\n",
        "\n",
        "def erro_e(infec_real,infec_modelo):\n",
        "  return 100*(np.absolute(infec_real - infec_modelo)/(infec_real))\n",
        "\n",
        "def br_z_score(infec_real,infec_modelo,erro_malthus):\n",
        "  return np.divide(np.absolute(infec_real - infec_modelo),erro_malthus)\n",
        "\n",
        "def ar_z_score(infec_real,infec_modelo,erro_malthus):\n",
        "  return np.divide(np.absolute(infec_real - infec_modelo),erro_malthus)"
      ],
      "execution_count": 0,
      "outputs": []
    },
    {
      "cell_type": "code",
      "metadata": {
        "id": "Zh9Nb4r32a_e",
        "colab_type": "code",
        "colab": {}
      },
      "source": [
        "# Brazil Metrics (Uxinfec, Estimated Error, Z-Score)\n",
        "\n",
        "brazil_training['Uxinfec'] = br_erro_malthus(brazil_training['t'],brazil_training['Malthus'])\n",
        "brazil_training['erro estimado (%)'] = (100*(np.absolute(brazil_training['Confirmed'] - brazil_training['Malthus']))/brazil_training['Confirmed']).round(2)\n",
        "brazil_training['Z-Score'] = br_z_score(brazil_training['Confirmed'],brazil_training['Malthus'],brazil_training['erro estimado (%)'])\n",
        "\n",
        "# Argentina Metrics (Uxinfec, Estimated Error, Z-Score)\n",
        "\n",
        "argentina_training['Uxinfec'] = br_erro_malthus(argentina_training['t'],argentina_training['Malthus'])\n",
        "argentina_training['erro estimado (%)'] = (100*(np.absolute(argentina_training['Confirmed'] - argentina_training['Malthus']))/argentina_training['Confirmed']).round(2)\n",
        "argentina_training['Z-Score'] = br_z_score(argentina_training['Confirmed'],argentina_training['Malthus'],argentina_training['erro estimado (%)'])"
      ],
      "execution_count": 0,
      "outputs": []
    },
    {
      "cell_type": "code",
      "metadata": {
        "id": "QTLE5eTZ5l8n",
        "colab_type": "code",
        "colab": {}
      },
      "source": [
        "brazil_training = brazil_training[['Country','Date','t','Confirmed','Malthus','erro estimado (%)','Z-Score','Verhulst']]\n",
        "argentina_training = argentina_training[['Country','Date','t','Confirmed','Malthus','erro estimado (%)','Z-Score','Verhulst']]"
      ],
      "execution_count": 0,
      "outputs": []
    },
    {
      "cell_type": "code",
      "metadata": {
        "id": "QaG7DYfO5nbG",
        "colab_type": "code",
        "colab": {
          "base_uri": "https://localhost:8080/",
          "height": 639
        },
        "outputId": "fca2781d-d54c-4d05-b6bf-9f3bd961cf81"
      },
      "source": [
        "brazil_training.head(20)"
      ],
      "execution_count": 235,
      "outputs": [
        {
          "output_type": "execute_result",
          "data": {
            "text/html": [
              "<div>\n",
              "<style scoped>\n",
              "    .dataframe tbody tr th:only-of-type {\n",
              "        vertical-align: middle;\n",
              "    }\n",
              "\n",
              "    .dataframe tbody tr th {\n",
              "        vertical-align: top;\n",
              "    }\n",
              "\n",
              "    .dataframe thead th {\n",
              "        text-align: right;\n",
              "    }\n",
              "</style>\n",
              "<table border=\"1\" class=\"dataframe\">\n",
              "  <thead>\n",
              "    <tr style=\"text-align: right;\">\n",
              "      <th></th>\n",
              "      <th>Country</th>\n",
              "      <th>Date</th>\n",
              "      <th>t</th>\n",
              "      <th>Confirmed</th>\n",
              "      <th>Malthus</th>\n",
              "      <th>erro estimado (%)</th>\n",
              "      <th>Z-Score</th>\n",
              "      <th>Verhulst</th>\n",
              "    </tr>\n",
              "  </thead>\n",
              "  <tbody>\n",
              "    <tr>\n",
              "      <th>13390</th>\n",
              "      <td>Brazil</td>\n",
              "      <td>3/13/20</td>\n",
              "      <td>0</td>\n",
              "      <td>151</td>\n",
              "      <td>151.0</td>\n",
              "      <td>0.00</td>\n",
              "      <td>NaN</td>\n",
              "      <td>151.0</td>\n",
              "    </tr>\n",
              "    <tr>\n",
              "      <th>13652</th>\n",
              "      <td>Brazil</td>\n",
              "      <td>3/14/20</td>\n",
              "      <td>1</td>\n",
              "      <td>151</td>\n",
              "      <td>178.0</td>\n",
              "      <td>17.88</td>\n",
              "      <td>1.510067</td>\n",
              "      <td>183.0</td>\n",
              "    </tr>\n",
              "    <tr>\n",
              "      <th>13914</th>\n",
              "      <td>Brazil</td>\n",
              "      <td>3/15/20</td>\n",
              "      <td>2</td>\n",
              "      <td>162</td>\n",
              "      <td>211.0</td>\n",
              "      <td>30.25</td>\n",
              "      <td>1.619835</td>\n",
              "      <td>221.0</td>\n",
              "    </tr>\n",
              "    <tr>\n",
              "      <th>14176</th>\n",
              "      <td>Brazil</td>\n",
              "      <td>3/16/20</td>\n",
              "      <td>3</td>\n",
              "      <td>200</td>\n",
              "      <td>249.0</td>\n",
              "      <td>24.50</td>\n",
              "      <td>2.000000</td>\n",
              "      <td>268.0</td>\n",
              "    </tr>\n",
              "    <tr>\n",
              "      <th>14438</th>\n",
              "      <td>Brazil</td>\n",
              "      <td>3/17/20</td>\n",
              "      <td>4</td>\n",
              "      <td>321</td>\n",
              "      <td>295.0</td>\n",
              "      <td>8.10</td>\n",
              "      <td>3.209877</td>\n",
              "      <td>325.0</td>\n",
              "    </tr>\n",
              "    <tr>\n",
              "      <th>14700</th>\n",
              "      <td>Brazil</td>\n",
              "      <td>3/18/20</td>\n",
              "      <td>5</td>\n",
              "      <td>372</td>\n",
              "      <td>348.0</td>\n",
              "      <td>6.45</td>\n",
              "      <td>3.720930</td>\n",
              "      <td>393.0</td>\n",
              "    </tr>\n",
              "    <tr>\n",
              "      <th>14962</th>\n",
              "      <td>Brazil</td>\n",
              "      <td>3/19/20</td>\n",
              "      <td>6</td>\n",
              "      <td>621</td>\n",
              "      <td>412.0</td>\n",
              "      <td>33.66</td>\n",
              "      <td>6.209150</td>\n",
              "      <td>475.0</td>\n",
              "    </tr>\n",
              "    <tr>\n",
              "      <th>15224</th>\n",
              "      <td>Brazil</td>\n",
              "      <td>3/20/20</td>\n",
              "      <td>7</td>\n",
              "      <td>793</td>\n",
              "      <td>487.0</td>\n",
              "      <td>38.59</td>\n",
              "      <td>7.929515</td>\n",
              "      <td>574.0</td>\n",
              "    </tr>\n",
              "    <tr>\n",
              "      <th>15486</th>\n",
              "      <td>Brazil</td>\n",
              "      <td>3/21/20</td>\n",
              "      <td>8</td>\n",
              "      <td>1021</td>\n",
              "      <td>575.0</td>\n",
              "      <td>43.68</td>\n",
              "      <td>10.210623</td>\n",
              "      <td>694.0</td>\n",
              "    </tr>\n",
              "    <tr>\n",
              "      <th>15748</th>\n",
              "      <td>Brazil</td>\n",
              "      <td>3/22/20</td>\n",
              "      <td>9</td>\n",
              "      <td>1546</td>\n",
              "      <td>680.0</td>\n",
              "      <td>56.02</td>\n",
              "      <td>15.458765</td>\n",
              "      <td>839.0</td>\n",
              "    </tr>\n",
              "    <tr>\n",
              "      <th>16010</th>\n",
              "      <td>Brazil</td>\n",
              "      <td>3/23/20</td>\n",
              "      <td>10</td>\n",
              "      <td>1924</td>\n",
              "      <td>803.0</td>\n",
              "      <td>58.26</td>\n",
              "      <td>19.241332</td>\n",
              "      <td>1013.0</td>\n",
              "    </tr>\n",
              "    <tr>\n",
              "      <th>16272</th>\n",
              "      <td>Brazil</td>\n",
              "      <td>3/24/20</td>\n",
              "      <td>11</td>\n",
              "      <td>2247</td>\n",
              "      <td>949.0</td>\n",
              "      <td>57.77</td>\n",
              "      <td>22.468409</td>\n",
              "      <td>1222.0</td>\n",
              "    </tr>\n",
              "    <tr>\n",
              "      <th>16534</th>\n",
              "      <td>Brazil</td>\n",
              "      <td>3/25/20</td>\n",
              "      <td>12</td>\n",
              "      <td>2554</td>\n",
              "      <td>1122.0</td>\n",
              "      <td>56.07</td>\n",
              "      <td>25.539504</td>\n",
              "      <td>1472.0</td>\n",
              "    </tr>\n",
              "    <tr>\n",
              "      <th>16796</th>\n",
              "      <td>Brazil</td>\n",
              "      <td>3/26/20</td>\n",
              "      <td>13</td>\n",
              "      <td>2985</td>\n",
              "      <td>1326.0</td>\n",
              "      <td>55.58</td>\n",
              "      <td>29.848866</td>\n",
              "      <td>1773.0</td>\n",
              "    </tr>\n",
              "    <tr>\n",
              "      <th>17058</th>\n",
              "      <td>Brazil</td>\n",
              "      <td>3/27/20</td>\n",
              "      <td>14</td>\n",
              "      <td>3417</td>\n",
              "      <td>1568.0</td>\n",
              "      <td>54.11</td>\n",
              "      <td>34.171133</td>\n",
              "      <td>2131.0</td>\n",
              "    </tr>\n",
              "    <tr>\n",
              "      <th>17320</th>\n",
              "      <td>Brazil</td>\n",
              "      <td>3/28/20</td>\n",
              "      <td>15</td>\n",
              "      <td>3904</td>\n",
              "      <td>1853.0</td>\n",
              "      <td>52.54</td>\n",
              "      <td>39.036924</td>\n",
              "      <td>2558.0</td>\n",
              "    </tr>\n",
              "    <tr>\n",
              "      <th>17582</th>\n",
              "      <td>Brazil</td>\n",
              "      <td>3/29/20</td>\n",
              "      <td>16</td>\n",
              "      <td>4256</td>\n",
              "      <td>2190.0</td>\n",
              "      <td>48.54</td>\n",
              "      <td>42.562835</td>\n",
              "      <td>3064.0</td>\n",
              "    </tr>\n",
              "    <tr>\n",
              "      <th>17844</th>\n",
              "      <td>Brazil</td>\n",
              "      <td>3/30/20</td>\n",
              "      <td>17</td>\n",
              "      <td>4579</td>\n",
              "      <td>2588.0</td>\n",
              "      <td>43.48</td>\n",
              "      <td>45.791168</td>\n",
              "      <td>3662.0</td>\n",
              "    </tr>\n",
              "    <tr>\n",
              "      <th>18106</th>\n",
              "      <td>Brazil</td>\n",
              "      <td>3/31/20</td>\n",
              "      <td>18</td>\n",
              "      <td>5717</td>\n",
              "      <td>3059.0</td>\n",
              "      <td>46.49</td>\n",
              "      <td>57.173586</td>\n",
              "      <td>4364.0</td>\n",
              "    </tr>\n",
              "    <tr>\n",
              "      <th>18368</th>\n",
              "      <td>Brazil</td>\n",
              "      <td>4/1/20</td>\n",
              "      <td>19</td>\n",
              "      <td>6836</td>\n",
              "      <td>3615.0</td>\n",
              "      <td>47.12</td>\n",
              "      <td>68.357385</td>\n",
              "      <td>5186.0</td>\n",
              "    </tr>\n",
              "  </tbody>\n",
              "</table>\n",
              "</div>"
            ],
            "text/plain": [
              "      Country     Date   t  ...  erro estimado (%)    Z-Score  Verhulst\n",
              "13390  Brazil  3/13/20   0  ...               0.00        NaN     151.0\n",
              "13652  Brazil  3/14/20   1  ...              17.88   1.510067     183.0\n",
              "13914  Brazil  3/15/20   2  ...              30.25   1.619835     221.0\n",
              "14176  Brazil  3/16/20   3  ...              24.50   2.000000     268.0\n",
              "14438  Brazil  3/17/20   4  ...               8.10   3.209877     325.0\n",
              "14700  Brazil  3/18/20   5  ...               6.45   3.720930     393.0\n",
              "14962  Brazil  3/19/20   6  ...              33.66   6.209150     475.0\n",
              "15224  Brazil  3/20/20   7  ...              38.59   7.929515     574.0\n",
              "15486  Brazil  3/21/20   8  ...              43.68  10.210623     694.0\n",
              "15748  Brazil  3/22/20   9  ...              56.02  15.458765     839.0\n",
              "16010  Brazil  3/23/20  10  ...              58.26  19.241332    1013.0\n",
              "16272  Brazil  3/24/20  11  ...              57.77  22.468409    1222.0\n",
              "16534  Brazil  3/25/20  12  ...              56.07  25.539504    1472.0\n",
              "16796  Brazil  3/26/20  13  ...              55.58  29.848866    1773.0\n",
              "17058  Brazil  3/27/20  14  ...              54.11  34.171133    2131.0\n",
              "17320  Brazil  3/28/20  15  ...              52.54  39.036924    2558.0\n",
              "17582  Brazil  3/29/20  16  ...              48.54  42.562835    3064.0\n",
              "17844  Brazil  3/30/20  17  ...              43.48  45.791168    3662.0\n",
              "18106  Brazil  3/31/20  18  ...              46.49  57.173586    4364.0\n",
              "18368  Brazil   4/1/20  19  ...              47.12  68.357385    5186.0\n",
              "\n",
              "[20 rows x 8 columns]"
            ]
          },
          "metadata": {
            "tags": []
          },
          "execution_count": 235
        }
      ]
    },
    {
      "cell_type": "code",
      "metadata": {
        "id": "Qyq-CmXh5-Bf",
        "colab_type": "code",
        "colab": {
          "base_uri": "https://localhost:8080/",
          "height": 639
        },
        "outputId": "09206516-cbd9-4db4-c744-e8f14e0df14d"
      },
      "source": [
        "argentina_training.head(20)"
      ],
      "execution_count": 230,
      "outputs": [
        {
          "output_type": "execute_result",
          "data": {
            "text/html": [
              "<div>\n",
              "<style scoped>\n",
              "    .dataframe tbody tr th:only-of-type {\n",
              "        vertical-align: middle;\n",
              "    }\n",
              "\n",
              "    .dataframe tbody tr th {\n",
              "        vertical-align: top;\n",
              "    }\n",
              "\n",
              "    .dataframe thead th {\n",
              "        text-align: right;\n",
              "    }\n",
              "</style>\n",
              "<table border=\"1\" class=\"dataframe\">\n",
              "  <thead>\n",
              "    <tr style=\"text-align: right;\">\n",
              "      <th></th>\n",
              "      <th>Country</th>\n",
              "      <th>Date</th>\n",
              "      <th>t</th>\n",
              "      <th>Confirmed</th>\n",
              "      <th>Malthus</th>\n",
              "      <th>erro estimado (%)</th>\n",
              "      <th>Z-Score</th>\n",
              "      <th>Verhulst</th>\n",
              "    </tr>\n",
              "  </thead>\n",
              "  <tbody>\n",
              "    <tr>\n",
              "      <th>15464</th>\n",
              "      <td>Argentina</td>\n",
              "      <td>3/21/20</td>\n",
              "      <td>0</td>\n",
              "      <td>158</td>\n",
              "      <td>158.0</td>\n",
              "      <td>0.00</td>\n",
              "      <td>NaN</td>\n",
              "      <td>158.0</td>\n",
              "    </tr>\n",
              "    <tr>\n",
              "      <th>15726</th>\n",
              "      <td>Argentina</td>\n",
              "      <td>3/22/20</td>\n",
              "      <td>1</td>\n",
              "      <td>266</td>\n",
              "      <td>175.0</td>\n",
              "      <td>34.21</td>\n",
              "      <td>2.660041</td>\n",
              "      <td>163.0</td>\n",
              "    </tr>\n",
              "    <tr>\n",
              "      <th>15988</th>\n",
              "      <td>Argentina</td>\n",
              "      <td>3/23/20</td>\n",
              "      <td>2</td>\n",
              "      <td>301</td>\n",
              "      <td>194.0</td>\n",
              "      <td>35.55</td>\n",
              "      <td>3.009845</td>\n",
              "      <td>168.0</td>\n",
              "    </tr>\n",
              "    <tr>\n",
              "      <th>16250</th>\n",
              "      <td>Argentina</td>\n",
              "      <td>3/24/20</td>\n",
              "      <td>3</td>\n",
              "      <td>387</td>\n",
              "      <td>214.0</td>\n",
              "      <td>44.70</td>\n",
              "      <td>3.870246</td>\n",
              "      <td>174.0</td>\n",
              "    </tr>\n",
              "    <tr>\n",
              "      <th>16512</th>\n",
              "      <td>Argentina</td>\n",
              "      <td>3/25/20</td>\n",
              "      <td>4</td>\n",
              "      <td>387</td>\n",
              "      <td>237.0</td>\n",
              "      <td>38.76</td>\n",
              "      <td>3.869969</td>\n",
              "      <td>180.0</td>\n",
              "    </tr>\n",
              "    <tr>\n",
              "      <th>16774</th>\n",
              "      <td>Argentina</td>\n",
              "      <td>3/26/20</td>\n",
              "      <td>5</td>\n",
              "      <td>502</td>\n",
              "      <td>262.0</td>\n",
              "      <td>47.81</td>\n",
              "      <td>5.019870</td>\n",
              "      <td>186.0</td>\n",
              "    </tr>\n",
              "    <tr>\n",
              "      <th>17036</th>\n",
              "      <td>Argentina</td>\n",
              "      <td>3/27/20</td>\n",
              "      <td>6</td>\n",
              "      <td>589</td>\n",
              "      <td>290.0</td>\n",
              "      <td>50.76</td>\n",
              "      <td>5.890465</td>\n",
              "      <td>193.0</td>\n",
              "    </tr>\n",
              "    <tr>\n",
              "      <th>17298</th>\n",
              "      <td>Argentina</td>\n",
              "      <td>3/28/20</td>\n",
              "      <td>7</td>\n",
              "      <td>690</td>\n",
              "      <td>322.0</td>\n",
              "      <td>53.33</td>\n",
              "      <td>6.900431</td>\n",
              "      <td>200.0</td>\n",
              "    </tr>\n",
              "    <tr>\n",
              "      <th>17560</th>\n",
              "      <td>Argentina</td>\n",
              "      <td>3/29/20</td>\n",
              "      <td>8</td>\n",
              "      <td>745</td>\n",
              "      <td>356.0</td>\n",
              "      <td>52.21</td>\n",
              "      <td>7.450680</td>\n",
              "      <td>208.0</td>\n",
              "    </tr>\n",
              "    <tr>\n",
              "      <th>17822</th>\n",
              "      <td>Argentina</td>\n",
              "      <td>3/30/20</td>\n",
              "      <td>9</td>\n",
              "      <td>820</td>\n",
              "      <td>394.0</td>\n",
              "      <td>51.95</td>\n",
              "      <td>8.200192</td>\n",
              "      <td>217.0</td>\n",
              "    </tr>\n",
              "    <tr>\n",
              "      <th>18084</th>\n",
              "      <td>Argentina</td>\n",
              "      <td>3/31/20</td>\n",
              "      <td>10</td>\n",
              "      <td>1054</td>\n",
              "      <td>436.0</td>\n",
              "      <td>58.63</td>\n",
              "      <td>10.540679</td>\n",
              "      <td>226.0</td>\n",
              "    </tr>\n",
              "    <tr>\n",
              "      <th>18346</th>\n",
              "      <td>Argentina</td>\n",
              "      <td>4/1/20</td>\n",
              "      <td>11</td>\n",
              "      <td>1054</td>\n",
              "      <td>483.0</td>\n",
              "      <td>54.17</td>\n",
              "      <td>10.540890</td>\n",
              "      <td>236.0</td>\n",
              "    </tr>\n",
              "    <tr>\n",
              "      <th>18608</th>\n",
              "      <td>Argentina</td>\n",
              "      <td>4/2/20</td>\n",
              "      <td>12</td>\n",
              "      <td>1133</td>\n",
              "      <td>534.0</td>\n",
              "      <td>52.87</td>\n",
              "      <td>11.329677</td>\n",
              "      <td>247.0</td>\n",
              "    </tr>\n",
              "    <tr>\n",
              "      <th>18870</th>\n",
              "      <td>Argentina</td>\n",
              "      <td>4/3/20</td>\n",
              "      <td>13</td>\n",
              "      <td>1265</td>\n",
              "      <td>591.0</td>\n",
              "      <td>53.28</td>\n",
              "      <td>12.650150</td>\n",
              "      <td>259.0</td>\n",
              "    </tr>\n",
              "    <tr>\n",
              "      <th>19132</th>\n",
              "      <td>Argentina</td>\n",
              "      <td>4/4/20</td>\n",
              "      <td>14</td>\n",
              "      <td>1451</td>\n",
              "      <td>654.0</td>\n",
              "      <td>54.93</td>\n",
              "      <td>14.509376</td>\n",
              "      <td>273.0</td>\n",
              "    </tr>\n",
              "    <tr>\n",
              "      <th>19394</th>\n",
              "      <td>Argentina</td>\n",
              "      <td>4/5/20</td>\n",
              "      <td>15</td>\n",
              "      <td>1451</td>\n",
              "      <td>724.0</td>\n",
              "      <td>50.10</td>\n",
              "      <td>14.510978</td>\n",
              "      <td>288.0</td>\n",
              "    </tr>\n",
              "    <tr>\n",
              "      <th>19656</th>\n",
              "      <td>Argentina</td>\n",
              "      <td>4/6/20</td>\n",
              "      <td>16</td>\n",
              "      <td>1554</td>\n",
              "      <td>801.0</td>\n",
              "      <td>48.46</td>\n",
              "      <td>15.538589</td>\n",
              "      <td>304.0</td>\n",
              "    </tr>\n",
              "    <tr>\n",
              "      <th>19918</th>\n",
              "      <td>Argentina</td>\n",
              "      <td>4/7/20</td>\n",
              "      <td>17</td>\n",
              "      <td>1628</td>\n",
              "      <td>887.0</td>\n",
              "      <td>45.52</td>\n",
              "      <td>16.278559</td>\n",
              "      <td>323.0</td>\n",
              "    </tr>\n",
              "    <tr>\n",
              "      <th>20180</th>\n",
              "      <td>Argentina</td>\n",
              "      <td>4/8/20</td>\n",
              "      <td>18</td>\n",
              "      <td>1715</td>\n",
              "      <td>982.0</td>\n",
              "      <td>42.74</td>\n",
              "      <td>17.150211</td>\n",
              "      <td>344.0</td>\n",
              "    </tr>\n",
              "    <tr>\n",
              "      <th>20442</th>\n",
              "      <td>Argentina</td>\n",
              "      <td>4/9/20</td>\n",
              "      <td>19</td>\n",
              "      <td>1795</td>\n",
              "      <td>1087.0</td>\n",
              "      <td>39.44</td>\n",
              "      <td>17.951318</td>\n",
              "      <td>368.0</td>\n",
              "    </tr>\n",
              "  </tbody>\n",
              "</table>\n",
              "</div>"
            ],
            "text/plain": [
              "         Country     Date   t  ...  erro estimado (%)    Z-Score  Verhulst\n",
              "15464  Argentina  3/21/20   0  ...               0.00        NaN     158.0\n",
              "15726  Argentina  3/22/20   1  ...              34.21   2.660041     163.0\n",
              "15988  Argentina  3/23/20   2  ...              35.55   3.009845     168.0\n",
              "16250  Argentina  3/24/20   3  ...              44.70   3.870246     174.0\n",
              "16512  Argentina  3/25/20   4  ...              38.76   3.869969     180.0\n",
              "16774  Argentina  3/26/20   5  ...              47.81   5.019870     186.0\n",
              "17036  Argentina  3/27/20   6  ...              50.76   5.890465     193.0\n",
              "17298  Argentina  3/28/20   7  ...              53.33   6.900431     200.0\n",
              "17560  Argentina  3/29/20   8  ...              52.21   7.450680     208.0\n",
              "17822  Argentina  3/30/20   9  ...              51.95   8.200192     217.0\n",
              "18084  Argentina  3/31/20  10  ...              58.63  10.540679     226.0\n",
              "18346  Argentina   4/1/20  11  ...              54.17  10.540890     236.0\n",
              "18608  Argentina   4/2/20  12  ...              52.87  11.329677     247.0\n",
              "18870  Argentina   4/3/20  13  ...              53.28  12.650150     259.0\n",
              "19132  Argentina   4/4/20  14  ...              54.93  14.509376     273.0\n",
              "19394  Argentina   4/5/20  15  ...              50.10  14.510978     288.0\n",
              "19656  Argentina   4/6/20  16  ...              48.46  15.538589     304.0\n",
              "19918  Argentina   4/7/20  17  ...              45.52  16.278559     323.0\n",
              "20180  Argentina   4/8/20  18  ...              42.74  17.150211     344.0\n",
              "20442  Argentina   4/9/20  19  ...              39.44  17.951318     368.0\n",
              "\n",
              "[20 rows x 8 columns]"
            ]
          },
          "metadata": {
            "tags": []
          },
          "execution_count": 230
        }
      ]
    },
    {
      "cell_type": "code",
      "metadata": {
        "id": "2WnQLBbD6BC3",
        "colab_type": "code",
        "colab": {}
      },
      "source": [
        ""
      ],
      "execution_count": 0,
      "outputs": []
    }
  ]
}
